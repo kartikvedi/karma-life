{
  "nbformat": 4,
  "nbformat_minor": 0,
  "metadata": {
    "colab": {
      "name": "CNNGridSearch.ipynb",
      "provenance": [],
      "toc_visible": true,
      "include_colab_link": true
    },
    "kernelspec": {
      "name": "python3",
      "display_name": "Python 3"
    },
    "language_info": {
      "name": "python"
    },
    "accelerator": "TPU"
  },
  "cells": [
    {
      "cell_type": "markdown",
      "metadata": {
        "id": "view-in-github",
        "colab_type": "text"
      },
      "source": [
        "<a href=\"https://colab.research.google.com/github/neerajthandayan/Misc./blob/main/CNNGridSearch.ipynb\" target=\"_parent\"><img src=\"https://colab.research.google.com/assets/colab-badge.svg\" alt=\"Open In Colab\"/></a>"
      ]
    },
    {
      "cell_type": "markdown",
      "metadata": {
        "id": "OQ8oBdUZkood"
      },
      "source": [
        "## CNN + GridSearch For Optimal Performance\n",
        "#### Data Import and Pre-processing"
      ]
    },
    {
      "cell_type": "code",
      "metadata": {
        "id": "Q3H5MY7BkJwy"
      },
      "source": [
        "# Importing Libraries\n",
        "\n",
        "import numpy as np\n",
        "import matplotlib.pyplot as plt\n",
        "import tensorflow as tf\n",
        "from tensorflow.keras.models import Model\n",
        "from tensorflow.keras.layers import Input, Conv2D, MaxPooling2D, Flatten, Dense, Dropout\n",
        "from tensorflow.keras.datasets import mnist\n",
        "from tensorflow.keras.utils import to_categorical\n",
        "from sklearn.model_selection import GridSearchCV\n",
        "from tensorflow.keras.wrappers.scikit_learn import KerasClassifier\n",
        "from tensorflow.keras.optimizers import Adam, Adagrad, RMSprop"
      ],
      "execution_count": null,
      "outputs": []
    },
    {
      "cell_type": "code",
      "metadata": {
        "id": "aYip2rSzk5wX"
      },
      "source": [
        "#Fetching Data\n",
        "\n",
        "(X_train, y_train), (X_test, y_test) = mnist.load_data()"
      ],
      "execution_count": null,
      "outputs": []
    },
    {
      "cell_type": "code",
      "metadata": {
        "id": "Mb06M0xKk9li"
      },
      "source": [
        "# Changing the Data Shape\n",
        "\n",
        "X_train, X_test = X_train.astype('float32') /255, X_test.astype('float32') /255\n",
        "X_train, X_test = np.expand_dims(X_train, -1), np.expand_dims(X_test,-1)\n",
        "y_train, y_test = to_categorical(y_train), to_categorical(y_test)"
      ],
      "execution_count": null,
      "outputs": []
    },
    {
      "cell_type": "markdown",
      "metadata": {
        "id": "bBm4Lo_WoMk4"
      },
      "source": [
        "#### Function For ConvNet"
      ]
    },
    {
      "cell_type": "code",
      "metadata": {
        "id": "_3520Tg-k_dE"
      },
      "source": [
        "# Building funtion for model\n",
        "\n",
        "def CNN_model(act_funct='relu',opt=RMSprop,learning_rate=0.001,momentum=0.0, dropout_rate=0.0):\n",
        "  #Input\n",
        "  i = Input(shape=(X_train[0].shape))\n",
        "\n",
        "  #Convolution layers\n",
        "  o = Conv2D(32, (3,3), activation=act_funct)(i)\n",
        "  o = MaxPooling2D((2,2))(o)\n",
        "  o = Conv2D(64, (3,3), activation=act_funct)(o)\n",
        "  o = MaxPooling2D((2,2))(o)\n",
        "  o = Conv2D(64, (3,3), activation=act_funct)(o)\n",
        "\n",
        "  #Dense Layer\n",
        "  o = Flatten()(o)\n",
        "  o = Dropout(dropout_rate)(o)\n",
        "  o = Dense(64, activation=act_funct)(o)\n",
        "  o = Dense(10, activation='softmax')(o)\n",
        "\n",
        "  clf = Model(i,o)\n",
        "\n",
        "  #Compiling Model\n",
        "  clf.compile(optimizer=opt(learning_rate,momentum),\n",
        "              loss='categorical_crossentropy',\n",
        "              metrics=['accuracy'])\n",
        "  \n",
        "  return clf"
      ],
      "execution_count": null,
      "outputs": []
    },
    {
      "cell_type": "markdown",
      "metadata": {
        "id": "dTWlJmIVpC-v"
      },
      "source": [
        "#### Checking Model Default Performance"
      ]
    },
    {
      "cell_type": "code",
      "metadata": {
        "id": "BaKeilTulFrL",
        "colab": {
          "base_uri": "https://localhost:8080/"
        },
        "outputId": "b6c245d2-4785-474e-aed7-c3603335902c"
      },
      "source": [
        "model = CNN_model()\n",
        "model.fit(X_train, y_train, epochs=5, batch_size=64, validation_split=0.2) "
      ],
      "execution_count": null,
      "outputs": [
        {
          "output_type": "stream",
          "text": [
            "Epoch 1/5\n",
            "750/750 [==============================] - 44s 58ms/step - loss: 0.5764 - accuracy: 0.8179 - val_loss: 0.1136 - val_accuracy: 0.9643\n",
            "Epoch 2/5\n",
            "750/750 [==============================] - 43s 57ms/step - loss: 0.0894 - accuracy: 0.9744 - val_loss: 0.0662 - val_accuracy: 0.9815\n",
            "Epoch 3/5\n",
            "750/750 [==============================] - 43s 57ms/step - loss: 0.0812 - accuracy: 0.9801 - val_loss: 0.1016 - val_accuracy: 0.9769\n",
            "Epoch 4/5\n",
            "750/750 [==============================] - 43s 57ms/step - loss: 0.1026 - accuracy: 0.9778 - val_loss: 0.1030 - val_accuracy: 0.9802\n",
            "Epoch 5/5\n",
            "750/750 [==============================] - 42s 56ms/step - loss: 0.1113 - accuracy: 0.9772 - val_loss: 0.1616 - val_accuracy: 0.9775\n"
          ],
          "name": "stdout"
        },
        {
          "output_type": "execute_result",
          "data": {
            "text/plain": [
              "<tensorflow.python.keras.callbacks.History at 0x7f3606edfe90>"
            ]
          },
          "metadata": {
            "tags": []
          },
          "execution_count": 5
        }
      ]
    },
    {
      "cell_type": "code",
      "metadata": {
        "id": "HjBVi2Z2mWJc",
        "colab": {
          "base_uri": "https://localhost:8080/"
        },
        "outputId": "4c12d647-d1bd-4470-f192-c233f4ff97a4"
      },
      "source": [
        "test_loss, test_acc = model.evaluate(X_test, y_test)\n",
        "print(f'Accuracy: {round(test_acc*100,2)}%')"
      ],
      "execution_count": null,
      "outputs": [
        {
          "output_type": "stream",
          "text": [
            "313/313 [==============================] - 3s 10ms/step - loss: 0.1335 - accuracy: 0.9804\n",
            "Accuracy: 98.04%\n"
          ],
          "name": "stdout"
        }
      ]
    },
    {
      "cell_type": "markdown",
      "metadata": {
        "id": "QrkGwbYOpI2W"
      },
      "source": [
        "#### Setting Up and Fitting GridSearch"
      ]
    },
    {
      "cell_type": "code",
      "metadata": {
        "id": "yJ1uPe6RoJgS"
      },
      "source": [
        "act_funct = ['elu','selu','relu',tf.keras.layers.LeakyReLU()]\n",
        "opt = [Adam, Adagrad, RMSprop]\n",
        "learning_rate = [0.0001,0.001, 0.01, 0.1]\n",
        "momentum = [0.0,0.5,0.9,0.99]\n",
        "dropout_rate = [0.0,0.25,0.5]\n",
        "\n",
        "param_grid = dict(act_funct=act_funct,opt=opt,learning_rate=learning_rate,momentum=momentum,dropout_rate=dropout_rate)\n",
        "Classifier = KerasClassifier(build_fn=CNN_model,epochs=5, batch_size=64, validation_split=0.2)\n",
        "\n",
        "grid = GridSearchCV(estimator=Classifier,param_grid=param_grid, n_jobs=-1)\n",
        "grid_result = grid.fit(X_train,y_train)"
      ],
      "execution_count": null,
      "outputs": []
    },
    {
      "cell_type": "code",
      "metadata": {
        "id": "l-btDUVZq44u"
      },
      "source": [
        "#summarize results\n",
        "print(\"Best: %f using %s\" % (grid_result.best_score_, grid_result.best_params_))\n",
        "means = grid_result.cv_results_['mean_test_score']\n",
        "stds = grid_result.cv_results_['std_test_score']\n",
        "params = grid_result.cv_results_['params']\n",
        "for mean, stdev, param in zip(means, stds, params):\n",
        "    print(\"%f (%f) with: %r\" % (mean, stdev, param))"
      ],
      "execution_count": null,
      "outputs": []
    },
    {
      "cell_type": "code",
      "metadata": {
        "id": "p3hD1-MqtfnC"
      },
      "source": [
        "# Checking performance with optimal parameters\n",
        "\n",
        "optmodel = CNN_model(**grid_result.best_params_)\n",
        "optmodel.fit(X_train,y_train, epochs=5, batch_size=64, validation_split=0.2)"
      ],
      "execution_count": null,
      "outputs": []
    },
    {
      "cell_type": "code",
      "metadata": {
        "id": "Y5rwUlZrybg8"
      },
      "source": [
        "t_loss, t_acc,= optmodel.evaluate(X_test, y_test)\n",
        "print(f'Accuracy: {round(t_acc*100,2)}%')"
      ],
      "execution_count": null,
      "outputs": []
    }
  ]
}
